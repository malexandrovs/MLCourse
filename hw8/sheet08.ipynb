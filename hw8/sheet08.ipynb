{
 "cells": [
  {
   "cell_type": "markdown",
   "metadata": {
    "deletable": false,
    "editable": false,
    "nbgrader": {
     "checksum": "00a235fd0042bf5bc7946d98643a4171",
     "grade": false,
     "grade_id": "h00",
     "locked": true,
     "schema_version": 1,
     "solution": false
    }
   },
   "source": [
    "Osnabrück University - Machine Learning (Summer Term 2019) - Prof. Dr.-Ing. G. Heidemann, Ulf Krumnack, Axel Schaffland"
   ]
  },
  {
   "cell_type": "markdown",
   "metadata": {
    "deletable": false,
    "editable": false,
    "nbgrader": {
     "checksum": "0363ecd47553f55d98a7188069b1912a",
     "grade": false,
     "grade_id": "h01",
     "locked": true,
     "schema_version": 1,
     "solution": false
    }
   },
   "source": [
    "# Exercise Sheet 08"
   ]
  },
  {
   "cell_type": "markdown",
   "metadata": {
    "deletable": false,
    "editable": false,
    "nbgrader": {
     "checksum": "072a1e172224c055d02459bedf346402",
     "grade": false,
     "grade_id": "h02",
     "locked": true,
     "schema_version": 1,
     "solution": false
    }
   },
   "source": [
    "## Introduction\n",
    "\n",
    "This week's sheet should be solved and handed in before the end of **Sunday, June 1, 2019**. If you need help (and Google and other resources were not enough), feel free to contact your groups' designated tutor or whomever of us you run into first. Please upload your results to your group's Stud.IP folder."
   ]
  },
  {
   "cell_type": "markdown",
   "metadata": {
    "deletable": false,
    "editable": false,
    "nbgrader": {
     "checksum": "30931b29151fec35dd9d884a79819987",
     "grade": false,
     "grade_id": "cell-78e418c8c7c6b9cb",
     "locked": true,
     "schema_version": 1,
     "solution": false
    }
   },
   "source": [
    "## Assignment 0: Math recap (Conditional Probability) [2 Points]\n",
    "\n",
    "This exercise is supposed to be very easy and is voluntary. There will be a similar exercise on every sheet. It is intended to revise some basic mathematical notions that are assumed throughout this class and to allow you to check if you are comfortable with them. Usually you should have no problem to answer these questions offhand, but if you feel unsure, this is a good time to look them up again. You are always welcome to discuss questions with the tutors or in the practice session. Also, if you have a (math) topic you would like to recap, please let us know."
   ]
  },
  {
   "cell_type": "markdown",
   "metadata": {
    "deletable": false,
    "editable": false,
    "nbgrader": {
     "checksum": "855316bdf01ce31dab06b89382d0c83f",
     "grade": false,
     "grade_id": "math-cprob-q1",
     "locked": true,
     "schema_version": 1,
     "solution": false
    }
   },
   "source": [
    "**a)** Explain the idea of conditional probability. How is it defined?"
   ]
  },
  {
   "cell_type": "markdown",
   "metadata": {
    "collapsed": true,
    "deletable": false,
    "nbgrader": {
     "checksum": "cdd8edfccc04a31d9a983866800a57ca",
     "grade": true,
     "grade_id": "math-cprob-a1",
     "locked": false,
     "points": 0.5,
     "schema_version": 1,
     "solution": true
    },
    "solution": true
   },
   "source": [
    "YOUR ANSWER HERE"
   ]
  },
  {
   "cell_type": "markdown",
   "metadata": {
    "deletable": false,
    "editable": false,
    "nbgrader": {
     "checksum": "46198461fba50cb38ba7278aca6b935c",
     "grade": false,
     "grade_id": "math-cprob-q2",
     "locked": true,
     "schema_version": 1,
     "solution": false
    }
   },
   "source": [
    "**b)** What is Bayes' theorem? What are its applications?"
   ]
  },
  {
   "cell_type": "markdown",
   "metadata": {
    "collapsed": true,
    "deletable": false,
    "nbgrader": {
     "checksum": "fe506eb4d056aad3a69041b3e97ee42c",
     "grade": true,
     "grade_id": "math-cprob-a2",
     "locked": false,
     "points": 0,
     "schema_version": 1,
     "solution": true
    },
    "solution": true
   },
   "source": [
    "YOUR ANSWER HERE"
   ]
  },
  {
   "cell_type": "markdown",
   "metadata": {
    "deletable": false,
    "editable": false,
    "nbgrader": {
     "checksum": "7b1e731d96f98286b8a7c10c0ce192ee",
     "grade": false,
     "grade_id": "math-cprob-q3",
     "locked": true,
     "schema_version": 1,
     "solution": false
    }
   },
   "source": [
    "**c)** What does the law of total probability state? "
   ]
  },
  {
   "cell_type": "markdown",
   "metadata": {
    "deletable": false,
    "nbgrader": {
     "checksum": "c694bdf071196e589958260e49ab3fdd",
     "grade": true,
     "grade_id": "math-cprob-a3",
     "locked": false,
     "points": 0.5,
     "schema_version": 1,
     "solution": true
    }
   },
   "source": [
    "YOUR ANSWER HERE"
   ]
  },
  {
   "cell_type": "markdown",
   "metadata": {
    "deletable": false,
    "editable": false,
    "nbgrader": {
     "checksum": "6c4f5c0c44b0d7db516c6e967a66e6b7",
     "grade": false,
     "grade_id": "ex1",
     "locked": true,
     "schema_version": 1,
     "solution": false
    }
   },
   "source": [
    "## Assignment 1: Multilayer Perceptron (MLP) [10 Points]\n",
    "\n",
    "Last week you implemented a simple perceptron. We discussed that one can use multiple perceptrons to build a network. This week you will build your own MLP. Again the following code cells are just a guideline. If you feel like it, just follow the algorithm steps and implement the MLP yourself."
   ]
  },
  {
   "cell_type": "markdown",
   "metadata": {
    "deletable": false,
    "editable": false,
    "nbgrader": {
     "checksum": "cc22d05a72b8a6dbf802cff8368843d7",
     "grade": false,
     "grade_id": "ex1a_intro",
     "locked": true,
     "schema_version": 1,
     "solution": false
    }
   },
   "source": [
    "### Implementation\n",
    "\n",
    "In the following you will be guided through implementing an MLP step by step. Instead of sticking to this guide, you are free to take a complete custom approach instead if you wish.\n",
    "\n",
    "We will take a bottom-up approach: Starting from an individual **perceptron** (aka neuron), we will derive a **layer of perceptrons** and end up with a **multilayer perceptron** (aka neural network). Each step will be implemented as its own python *class*. Such a class defines a type of element which can be instantiated multiple times. You can think of the relation between such instances and their designated classes as individuals of a specific population (e.g. Bernard and Bianca are both individuals of the population mice). Class definitions contain methods, which can be used to manipulate instance of that class or to make it perform specific actions — again, taking the population reference, each mouse of the mice population would for example have the method `eat_cheese()`.\n",
    "\n",
    "To guide you along, all required classes and functions are outlined in valid python code with extensive comments. You just need to fill in the gaps. For each method the [docstring](https://www.python.org/dev/peps/pep-0257/#what-is-a-docstring) (the big comment contained by triple quotes at the beginning of the method) describes the arguments that each specific method accepts (`Args`) and the values it is expected to return (`Returns`)."
   ]
  },
  {
   "cell_type": "markdown",
   "metadata": {
    "deletable": false,
    "editable": false,
    "nbgrader": {
     "checksum": "e76fef5be13db582fe1dbbe08b17d52e",
     "grade": false,
     "grade_id": "ex1a_intro2",
     "locked": true,
     "schema_version": 1,
     "solution": false
    }
   },
   "source": [
    "### Perceptron\n",
    "Similar to last week you here need to implement a perceptron. But instead of directly applying it, we will define a class which is reusable to instantiate a theoretically infinite amount of individual perceptrons. We will need the following three functionalities:\n",
    "\n",
    "#### Weight initialization\n",
    "\n",
    "The weights are initialized by sampling values from a standard normal distribution. There are as many weights as there are values in the input vector and an additional one for the perceptron's bias.\n",
    "\n",
    "#### Forward-Propagation / Activation\n",
    "\n",
    "Calculate the weighted sums of a neuron's inputs and apply it's activation function $\\sigma$. The output vector $o$ of perceptron $j$ of layer $k$ given an input $x$ (the output of the previous layer) in a neural network is given by the following formula. Note: $N$ gives the number of values of a given vector, $w_{j,0}(k)$ specifies the bias of perceptron $j$ in layer $k$ and $w_{j,1...N(x)}(k)$ the other weights of perceptron $j$ in layer $k$.\n",
    "\n",
    "$$o_{k,j}(x) = \\sigma\\left(w_{j,0}(k)+\\sum\\limits_{i=1}^{N(x)} x_i w_{j,i}(k)\\right)$$\n",
    "\n",
    "Think of the weights $w(k)$ as a matrix being located in-between layer $k$ and the layer located *to its left* in the network. So values flowing from layer $k-1$ to layer $k$ are weighted by the values of $w(k)$. As activation function we will use the sigmoid function because of its nice derivative (needed later):\n",
    "\n",
    "$$\\begin{align*}\n",
    "\\sigma(x) &= \\frac{1}{1 + \\exp{(-x)}}\\\\\n",
    "\\frac{d\\sigma}{dx}(x) &= \\sigma(x) \\cdot (1 - \\sigma(x))\n",
    "\\end{align*}$$\n",
    "\n",
    "#### Back-Propagation / Adaptation\n",
    "In order to learn something the perceptron needs to slowly adjust its weights. Each weight $w_{j,i}$ in layer $k$ is adjusted by a value $\\Delta w_{j,i}$ given a learning rate $\\epsilon$, the previous layer's output (or, for the first hidden layer, the network's input) $o_{k-1,i}(x)$ and the layer's error signals $\\delta(k)$ (which will be calculated by the MultilayerPerceptron):\n",
    "\n",
    "$$\\Delta w_{j,i}(k) = \\epsilon\\, \\delta_j(k) o_{k-1,i}(x)$$"
   ]
  },
  {
   "cell_type": "code",
   "execution_count": 1,
   "metadata": {
    "deletable": false,
    "nbgrader": {
     "checksum": "dda19fefaff078a764a3440a12de2532",
     "grade": true,
     "grade_id": "ex1a_solution",
     "locked": false,
     "points": 2,
     "schema_version": 1,
     "solution": true
    }
   },
   "outputs": [],
   "source": [
    "import numpy as np\n",
    "\n",
    "# Activation function σ.\n",
    "# We use scipy's builtin because it fixes some NaN problems for us.\n",
    "# sigmoid = lambda x: 1 / (1 + np.exp(-x))\n",
    "from scipy.special import expit as sigmoid\n",
    "\n",
    "\n",
    "class Perceptron:\n",
    "    \"\"\"Single neuron handling its own weights and bias.\"\"\"\n",
    "\n",
    "    def __init__(self, dim_in, act_func=sigmoid):\n",
    "        \"\"\"Initialize a new neuron with its weights and bias.\n",
    "\n",
    "        Args:\n",
    "            dim_in (int): Dimensionality of the data coming into this perceptron. \n",
    "                In a network of perceptrons this basically represents the \n",
    "                number of neurons in the layer before this neuron's layer. \n",
    "                Used for generating the perceptron's weights vector, which \n",
    "                not only includes one weight per input but also an additional \n",
    "                bias weight.\n",
    "            act_fun (function): Function to apply on activation.\n",
    "        \"\"\"\n",
    "        self.act_func = act_func\n",
    "        self.weights = np.random.normal(size=(dim_in+1))\n",
    "\n",
    "    def activate(self, x):\n",
    "        \"\"\"Activate this neuron with a specific input.\n",
    "\n",
    "        Calculate the weighted sum of inputs and apply the activation function.\n",
    "\n",
    "        Args:\n",
    "            x (ndarray): Vector of input values.\n",
    "\n",
    "        Returns:\n",
    "            float: A real number representing the perceptron's activation after \n",
    "            calculating the weighted sum of inputs and applying the \n",
    "            perceptron's activation function.\n",
    "        \"\"\"\n",
    "        # Return the activation value\n",
    "        return self.act_func(float(self.weights[0]+x@self.weights[1:]))\n",
    "\n",
    "    def adapt(self, x, delta, rate=0.03):\n",
    "        \"\"\"Adapt this neuron's weights by a specific delta.\n",
    "\n",
    "        Args:\n",
    "            x (ndarray): Vector of input values.\n",
    "            delta (float): Weight adaptation delta value.\n",
    "            rate (float): Learning rate.\n",
    "        \"\"\"\n",
    "        # Adapt self.weights according to the update rule\n",
    "        self.weights += rate*delta*np.array([1,*x])\n",
    "\n",
    "_p = Perceptron(2)\n",
    "assert _p.weights.size == 3, \"Should have a weight per input and a bias.\"\n",
    "assert isinstance(_p.activate([2, 1]), float), \"Should activate as scalar.\"\n",
    "assert -1 <= _p.activate([100, 100]) <= 1, \"Should activate using sigmoid.\"\n",
    "_p.weights = np.array([.5, .5, .5])\n",
    "_p.adapt([2, 3], np.array(.5))\n",
    "assert np.allclose(_p.weights, [0.515, 0.53, 0.545]), \\\n",
    "        \"Should update weights correctly.\""
   ]
  },
  {
   "cell_type": "markdown",
   "metadata": {
    "deletable": false,
    "editable": false,
    "nbgrader": {
     "checksum": "e92e6a95a27e6702da7e4eeeff1ea574",
     "grade": false,
     "grade_id": "ex1b_intro",
     "locked": true,
     "schema_version": 1,
     "solution": false
    }
   },
   "source": [
    "### PerceptronLayer\n",
    "A `PerceptronLayer` is a combination of multiple `Perceptron` instances. It mainly is concerened with passing input and delta values to its individual neurons. There is no math to be done here!\n",
    "\n",
    "#### Initialization\n",
    "\n",
    "When initializing a `PerceptronLayer` (like this: `layer = PerceptronLayer(5, 3)`), the `__init__` function is called. It creates a list of `Perceptron`s: For each output value there must be one perceptron. Each of those perceptrons receives the same inputs and the same activation function as the perceptron layer.\n",
    "\n",
    "#### Activation\n",
    "\n",
    "During the activation step, the perceptron layer activates each of its perceptrons. These values will not only be needed for forward propagation but will also be needed for implementing backpropagation in the `MultilayerPerceptron` (coming up next).\n",
    "\n",
    "#### Adaptation\n",
    "\n",
    "To update its perceptrons, the perceptron layer adapts each one with the corresponding delta. For this purpose, the MLP passes a list of input values and a list of deltas to the adaptation function. The inputs are passed to *all* perceptrons. The list of deltas is exactly as long as the list of perceptrons: The first delta is for the first perceptron, the second for the second, etc. The delta values themselves will be computed by the MLP."
   ]
  },
  {
   "cell_type": "code",
   "execution_count": 3,
   "metadata": {
    "deletable": false,
    "nbgrader": {
     "checksum": "76d76b823a657e790bdd16544db0a6cc",
     "grade": true,
     "grade_id": "ex1b_solution",
     "locked": false,
     "points": 2,
     "schema_version": 1,
     "solution": true
    }
   },
   "outputs": [],
   "source": [
    "class PerceptronLayer:\n",
    "    \"\"\"Layer of multiple neurons.\n",
    "    \n",
    "    Attributes:\n",
    "        perceptrons (list): List of perceptron instances in the layer.\n",
    "    \"\"\"\n",
    "    def __init__(self, dim_in, dim_out, act_func=sigmoid):\n",
    "        \"\"\"Initialize the layer as a list of individual neurons.\n",
    "\n",
    "        A layer contains as many neurons as it has outputs, each\n",
    "        neuron has as many input weights (+ bias) as the layer has inputs.\n",
    "\n",
    "        Args:\n",
    "            dim_in (int): Dimensionality of the expected input values,\n",
    "                also the size of the previous layer of a neural network.\n",
    "            dim_out (int): Dimensionality of the output, also the requested \n",
    "                amount of in this layer and the input dimension of the\n",
    "                next layer.\n",
    "            act_func (function): Activation function to use in each perceptron of\n",
    "                this layer.\n",
    "        \"\"\"\n",
    "        # Set self.perceptrons to a list of Perceptrons\n",
    "        self.perceptrons = [Perceptron(dim_in, act_func) for i in range(dim_out)]\n",
    "\n",
    "    def activate(self, x):\n",
    "        \"\"\"Activate this layer by activating each individual neuron.\n",
    "\n",
    "        Args:\n",
    "            x (ndarray): Vector of input values.\n",
    "\n",
    "        Retuns:\n",
    "            ndarray: Vector of output values which can be \n",
    "            used as input to another PerceptronLayer instance.\n",
    "        \"\"\"\n",
    "        # return the vector of activation values\n",
    "        return np.array([perc.activate(x) for perc in self.perceptrons])\n",
    "\n",
    "    def adapt(self, x, deltas, rate=0.03):\n",
    "        \"\"\"Adapt this layer by adapting each individual neuron.\n",
    "\n",
    "        Args:\n",
    "            x (ndarray): Vector of input values.\n",
    "            deltas (ndarray): Vector of delta values.\n",
    "            rate (float): Learning rate.\n",
    "        \"\"\"\n",
    "        # Update all the perceptrons in this layer\n",
    "        for i in range(len(self.perceptrons)):\n",
    "            self.perceptrons[i].adapt(x, deltas[i], rate) \n",
    "        \n",
    "    @property\n",
    "    def weight_matrix(self):\n",
    "        \"\"\"Helper property for getting this layer's weight matrix.\n",
    "\n",
    "        Returns:\n",
    "            ndarray: All the weights for this perceptron layer.\n",
    "        \"\"\"\n",
    "        return np.asarray([p.weights for p in self.perceptrons]).T\n",
    "\n",
    "\n",
    "_l = PerceptronLayer(3, 2)\n",
    "assert len(_l.perceptrons) == 2, \"Should have as many perceptrons as outputs.\"\n",
    "assert len(_l.activate([1,2,3])) == 2, \"Should provide correct output amount.\""
   ]
  },
  {
   "cell_type": "markdown",
   "metadata": {
    "deletable": false,
    "editable": false,
    "nbgrader": {
     "checksum": "5efdbb129648911160d7eb14bc0a02a4",
     "grade": false,
     "grade_id": "ex1c_intro",
     "locked": true,
     "schema_version": 1,
     "solution": false
    }
   },
   "source": [
    "### MultilayerPerceptron\n",
    "\n",
    "#### Forward-Propagation / Activation\n",
    "Propagate the input value $x$ through each layer of the network, employing the output of the previous layer as input to the next layer.\n",
    "\n",
    "#### Back-Propagation / Adaptation\n",
    "This is the most complex step of the whole task. Split into three separate parts:\n",
    "\n",
    "1. ***Forward propagation***: Compute the outputs for each individual layer – similar to the forward-propagation step above, but we need to keep track of the intermediate results to compute each layer's errors. That means: Store the input as the first \"output\" and then activate each of the network's layers using the *previous* layer's output and store the layer's activation result.\n",
    "\n",
    "2. ***Backward propagation***: Calculate each layer's error signals $\\delta_i(k)$. The important part here is to do so from the last to the first array, because each layer's error depends on the error from its following layer. Note: The first part of this formula makes use of the activation functions derivative $\\frac{d\\sigma}{dx}(k)$.\n",
    "\n",
    "    $$\\delta_i(k) = o_i(k)\\ (1 - o_i(k))\\ \\sum\\limits_{j=1}^{N(k+1)} w_{ji}(k+1,k)\\delta_j(k+1)$$\n",
    "\n",
    "    (*Hint*: For the last layer (i.e. the first you calculate the $\\delta$ for) the sum in the formula above is the total network error. For all preceding layers $k$ you need to recalculate `e` using the $\\delta$ and weights of layer $k+1$. We already implemented a helper function for you to access the weights of a specific layer. Check the `PerceptronLayer` if you did not find it yet.)\n",
    "\n",
    "3. ***Adaptation***: Call each layers adaptation function with its input, its designated error signals and the given learning rate.\n",
    "\n",
    "Hint: The last two steps can be performed in a single loop if you wish, but make sure to use the non-updated weights for the calculation of the next layer's error signals!"
   ]
  },
  {
   "cell_type": "code",
   "execution_count": 39,
   "metadata": {
    "deletable": false,
    "nbgrader": {
     "checksum": "3b9a6a3f957dbcd462792a260a6ea9aa",
     "grade": true,
     "grade_id": "ex1c_solution",
     "locked": false,
     "points": 2,
     "schema_version": 1,
     "solution": true
    }
   },
   "outputs": [],
   "source": [
    "class MultilayerPerceptron:\n",
    "    \"\"\"Network of perceptrons, also a set of multiple perceptron layers.\n",
    "    \n",
    "    Attributes:\n",
    "        layers (list): List of perceptron layers in the network.\n",
    "    \"\"\"\n",
    "    def __init__(self, *layers):\n",
    "        \"\"\"Initialize a new network, madeup of individual PerceptronLayers.\n",
    "\n",
    "        Args:\n",
    "            *layers: Arbitrarily many PerceptronLayer instances.\n",
    "        \"\"\"\n",
    "        self.layers = layers\n",
    "\n",
    "    def activate(self, x):\n",
    "        \"\"\"Activate network and return the last layer's output.\n",
    "\n",
    "        Args:\n",
    "            x (ndarray): Vector of input values.\n",
    "\n",
    "        Returns:\n",
    "            (ndarray): Vector of output values from the last layer of the \n",
    "            network after propagating forward through the network.\n",
    "        \"\"\"\n",
    "        # Propagate activation through the network\n",
    "        # and return output for last layer\n",
    "        \n",
    "        for layer in self.layers:\n",
    "            x = layer.activate(x)\n",
    "        return x\n",
    "\n",
    "    def adapt(self, x, t, rate=0.03):\n",
    "        \"\"\"Adapt the whole network given an input and expected output.\n",
    "\n",
    "        Args:\n",
    "            x (ndarray): Vector of input values.\n",
    "            t (ndarray): Vector of target values (expected outputs).\n",
    "            rate (float): Learning rate.\n",
    "        \"\"\"\n",
    "        # Activate each layer and collect intermediate outputs.\n",
    "        outputs = []\n",
    "        x_copy = x.copy()\n",
    "        for layer in self.layers:\n",
    "            x_copy = layer.activate(x_copy)\n",
    "            outputs.append(x_copy)\n",
    "        \n",
    "\n",
    "        # Calculate error 'e' between t and network output.\n",
    "        e = np.abs(outputs[-1]-t)\n",
    "        \n",
    "        # Backpropagate error through the network computing\n",
    "        # intermediate delta and adapting each layer.\n",
    "        for i in range(len(self.layers)):\n",
    "            deltas = outputs[-(i+1)]*(1-outputs[-(i+1)])*e\n",
    "            e = self.layers[-(i+1)].weight_matrix[1:]@deltas\n",
    "            self.layers[-(i+1)].adapt(x, deltas, rate)\n",
    "            \n",
    "            \n",
    "            "
   ]
  },
  {
   "cell_type": "markdown",
   "metadata": {
    "deletable": false,
    "editable": false,
    "nbgrader": {
     "checksum": "152a3c61e96dc5165054dea4632beeec",
     "grade": false,
     "grade_id": "ex1d",
     "locked": true,
     "schema_version": 1,
     "solution": false
    }
   },
   "source": [
    "### Classification"
   ]
  },
  {
   "cell_type": "markdown",
   "metadata": {
    "deletable": false,
    "editable": false,
    "nbgrader": {
     "checksum": "ea58b34094bb368ee10234116e5d381f",
     "grade": false,
     "grade_id": "ex1d_intro",
     "locked": true,
     "schema_version": 1,
     "solution": false
    }
   },
   "source": [
    "#### Problem Definition\n",
    "Before we start, we need a problem to solve. In the following cell we first generate some three dimensional data (= $\\text{input_dim}$) between 0 and 1 and label all data according to a binary classification: If the data is close to the center (radius < 2.5), it belongs to one class, if it is further away from the center it belongs to the other class.\n",
    "\n",
    "In the cell below we visualize the data set."
   ]
  },
  {
   "cell_type": "code",
   "execution_count": 40,
   "metadata": {},
   "outputs": [],
   "source": [
    "def uniform(a, b, n=1):\n",
    "    \"\"\"Returns n floats uniformly distributed between a and b.\"\"\"\n",
    "    return (b - a) * np.random.random_sample(n) + a\n",
    "\n",
    "\n",
    "n = 1000\n",
    "radius = 5\n",
    "r = np.append(uniform(0, radius * .5, n // 2),\n",
    "              uniform(radius * .7, radius, n // 2))\n",
    "angle = uniform(0, 2 * np.pi, n)\n",
    "x = r * np.sin(angle) + uniform(-radius, radius, n)\n",
    "y = r * np.cos(angle) + uniform(-radius, radius, n)\n",
    "inputs = np.vstack((x, y)).T\n",
    "targets = np.less(np.linalg.norm(inputs, axis=1), radius * .5)"
   ]
  },
  {
   "cell_type": "code",
   "execution_count": 41,
   "metadata": {
    "deletable": false,
    "editable": false,
    "nbgrader": {
     "checksum": "27f38fbe24cd62b9d47fe6cc9dc3fa13",
     "grade": false,
     "grade_id": "ex1d_demo1",
     "locked": true,
     "schema_version": 1,
     "solution": false
    }
   },
   "outputs": [
    {
     "data": {
      "image/png": "[encoded data removed]",
      "text/plain": [
       "<Figure size 432x288 with 1 Axes>"
      ]
     },
     "metadata": {
      "needs_background": "light"
     },
     "output_type": "display_data"
    }
   ],
   "source": [
    "%matplotlib inline\n",
    "import matplotlib.pyplot as plt\n",
    "\n",
    "fig, ax = plt.subplots(num='Data')\n",
    "ax.set(title='Labeled Data')\n",
    "ax.scatter(*inputs.T, 2, c=targets, cmap='RdYlBu')\n",
    "plt.show()"
   ]
  },
  {
   "cell_type": "markdown",
   "metadata": {
    "deletable": false,
    "editable": false,
    "nbgrader": {
     "checksum": "c6f21cca2778921b273204b8a4d84e2f",
     "grade": false,
     "grade_id": "ex1d_intro2",
     "locked": true,
     "schema_version": 1,
     "solution": false
    }
   },
   "source": [
    "### Model Design\n",
    "The following cell already contains a simple model with a single layer. Play around with some different configurations!"
   ]
  },
  {
   "cell_type": "code",
   "execution_count": 42,
   "metadata": {
    "deletable": false,
    "nbgrader": {
     "checksum": "dfaeffae61bc519a129b8ab7becd5e02",
     "grade": true,
     "grade_id": "ex1d_solution1",
     "locked": false,
     "points": 0,
     "schema_version": 1,
     "solution": true
    }
   },
   "outputs": [],
   "source": [
    "MLP = MultilayerPerceptron(\n",
    "    PerceptronLayer(2, 2),PerceptronLayer(2, 2), PerceptronLayer(2, 1)\n",
    ")"
   ]
  },
  {
   "cell_type": "markdown",
   "metadata": {
    "deletable": false,
    "editable": false,
    "nbgrader": {
     "checksum": "5a6f6361b876ec8e0d7ea4317c04e23e",
     "grade": false,
     "grade_id": "ex1d_intro3",
     "locked": true,
     "schema_version": 1,
     "solution": false
    }
   },
   "source": [
    "### Training\n",
    "Train the network on random samples from the data. Try adjusting the epochs and watch the training performance closely using different models."
   ]
  },
  {
   "cell_type": "code",
   "execution_count": 43,
   "metadata": {
    "editable": false,
    "nbgrader": {
     "checksum": "60a6ae24299c03042b919b6d86032cf7",
     "grade": false,
     "grade_id": "ex1d_demo2",
     "locked": true,
     "schema_version": 1,
     "solution": false
    }
   },
   "outputs": [
    {
     "data": {
      "application/javascript": [
       "/* Put everything inside the global mpl namespace */\n",
       "window.mpl = {};\n",
       "\n",
       "\n",
       "mpl.get_websocket_type = function() {\n",
       "    if (typeof(WebSocket) !== 'undefined') {\n",
       "        return WebSocket;\n",
       "    } else if (typeof(MozWebSocket) !== 'undefined') {\n",
       "        return MozWebSocket;\n",
       "    } else {\n",
       "        alert('Your browser does not have WebSocket support.' +\n",
       "              'Please try Chrome, Safari or Firefox ≥ 6. ' +\n",
       "              'Firefox 4 and 5 are also supported but you ' +\n",
       "              'have to enable WebSockets in about:config.');\n",
       "    };\n",
       "}\n",
       "\n",
       "mpl.figure = function(figure_id, websocket, ondownload, parent_element) {\n",
       "    this.id = figure_id;\n",
       "\n",
       "    this.ws = websocket;\n",
       "\n",
       "    this.supports_binary = (this.ws.binaryType != undefined);\n",
       "\n",
       "    if (!this.supports_binary) {\n",
       "        var warnings = document.getElementById(\"mpl-warnings\");\n",
       "        if (warnings) {\n",
       "            warnings.style.display = 'block';\n",
       "            warnings.textContent = (\n",
       "                \"This browser does not support binary websocket messages. \" +\n",
       "                    \"Performance may be slow.\");\n",
       "        }\n",
       "    }\n",
       "\n",
       "    this.imageObj = new Image();\n",
       "\n",
       "    this.context = undefined;\n",
       "    this.message = undefined;\n",
       "    this.canvas = undefined;\n",
       "    this.rubberband_canvas = undefined;\n",
       "    this.rubberband_context = undefined;\n",
       "    this.format_dropdown = undefined;\n",
       "\n",
       "    this.image_mode = 'full';\n",
       "\n",
       "    this.root = $('<div/>');\n",
       "    this._root_extra_style(this.root)\n",
       "    this.root.attr('style', 'display: inline-block');\n",
       "\n",
       "    $(parent_element).append(this.root);\n",
       "\n",
       "    this._init_header(this);\n",
       "    this._init_canvas(this);\n",
       "    this._init_toolbar(this);\n",
       "\n",
       "    var fig = this;\n",
       "\n",
       "    this.waiting = false;\n",
       "\n",
       "    this.ws.onopen =  function () {\n",
       "            fig.send_message(\"supports_binary\", {value: fig.supports_binary});\n",
       "            fig.send_message(\"send_image_mode\", {});\n",
       "            if (mpl.ratio != 1) {\n",
       "                fig.send_message(\"set_dpi_ratio\", {'dpi_ratio': mpl.ratio});\n",
       "            }\n",
       "            fig.send_message(\"refresh\", {});\n",
       "        }\n",
       "\n",
       "    this.imageObj.onload = function() {\n",
       "            if (fig.image_mode == 'full') {\n",
       "                // Full images could contain transparency (where diff images\n",
       "                // almost always do), so we need to clear the canvas so that\n",
       "                // there is no ghosting.\n",
       "                fig.context.clearRect(0, 0, fig.canvas.width, fig.canvas.height);\n",
       "            }\n",
       "            fig.context.drawImage(fig.imageObj, 0, 0);\n",
       "        };\n",
       "\n",
       "    this.imageObj.onunload = function() {\n",
       "        fig.ws.close();\n",
       "    }\n",
       "\n",
       "    this.ws.onmessage = this._make_on_message_function(this);\n",
       "\n",
       "    this.ondownload = ondownload;\n",
       "}\n",
       "\n",
       "mpl.figure.prototype._init_header = function() {\n",
       "    var titlebar = $(\n",
       "        '<div class=\"ui-dialog-titlebar ui-widget-header ui-corner-all ' +\n",
       "        'ui-helper-clearfix\"/>');\n",
       "    var titletext = $(\n",
       "        '<div class=\"ui-dialog-title\" style=\"width: 100%; ' +\n",
       "        'text-align: center; padding: 3px;\"/>');\n",
       "    titlebar.append(titletext)\n",
       "    this.root.append(titlebar);\n",
       "    this.header = titletext[0];\n",
       "}\n",
       "\n",
       "\n",
       "\n",
       "mpl.figure.prototype._canvas_extra_style = function(canvas_div) {\n",
       "\n",
       "}\n",
       "\n",
       "\n",
       "mpl.figure.prototype._root_extra_style = function(canvas_div) {\n",
       "\n",
       "}\n",
       "\n",
       "mpl.figure.prototype._init_canvas = function() {\n",
       "    var fig = this;\n",
       "\n",
       "    var canvas_div = $('<div/>');\n",
       "\n",
       "    canvas_div.attr('style', 'position: relative; clear: both; outline: 0');\n",
       "\n",
       "    function canvas_keyboard_event(event) {\n",
       "        return fig.key_event(event, event['data']);\n",
       "    }\n",
       "\n",
       "    canvas_div.keydown('key_press', canvas_keyboard_event);\n",
       "    canvas_div.keyup('key_release', canvas_keyboard_event);\n",
       "    this.canvas_div = canvas_div\n",
       "    this._canvas_extra_style(canvas_div)\n",
       "    this.root.append(canvas_div);\n",
       "\n",
       "    var canvas = $('<canvas/>');\n",
       "    canvas.addClass('mpl-canvas');\n",
       "    canvas.attr('style', \"left: 0; top: 0; z-index: 0; outline: 0\")\n",
       "\n",
       "    this.canvas = canvas[0];\n",
       "    this.context = canvas[0].getContext(\"2d\");\n",
       "\n",
       "    var backingStore = this.context.backingStorePixelRatio ||\n",
       "\tthis.context.webkitBackingStorePixelRatio ||\n",
       "\tthis.context.mozBackingStorePixelRatio ||\n",
       "\tthis.context.msBackingStorePixelRatio ||\n",
       "\tthis.context.oBackingStorePixelRatio ||\n",
       "\tthis.context.backingStorePixelRatio || 1;\n",
       "\n",
       "    mpl.ratio = (window.devicePixelRatio || 1) / backingStore;\n",
       "\n",
       "    var rubberband = $('<canvas/>');\n",
       "    rubberband.attr('style', \"position: absolute; left: 0; top: 0; z-index: 1;\")\n",
       "\n",
       "    var pass_mouse_events = true;\n",
       "\n",
       "    canvas_div.resizable({\n",
       "        start: function(event, ui) {\n",
       "            pass_mouse_events = false;\n",
       "        },\n",
       "        resize: function(event, ui) {\n",
       "            fig.request_resize(ui.size.width, ui.size.height);\n",
       "        },\n",
       "        stop: function(event, ui) {\n",
       "            pass_mouse_events = true;\n",
       "            fig.request_resize(ui.size.width, ui.size.height);\n",
       "        },\n",
       "    });\n",
       "\n",
       "    function mouse_event_fn(event) {\n",
       "        if (pass_mouse_events)\n",
       "            return fig.mouse_event(event, event['data']);\n",
       "    }\n",
       "\n",
       "    rubberband.mousedown('button_press', mouse_event_fn);\n",
       "    rubberband.mouseup('button_release', mouse_event_fn);\n",
       "    // Throttle sequential mouse events to 1 every 20ms.\n",
       "    rubberband.mousemove('motion_notify', mouse_event_fn);\n",
       "\n",
       "    rubberband.mouseenter('figure_enter', mouse_event_fn);\n",
       "    rubberband.mouseleave('figure_leave', mouse_event_fn);\n",
       "\n",
       "    canvas_div.on(\"wheel\", function (event) {\n",
       "        event = event.originalEvent;\n",
       "        event['data'] = 'scroll'\n",
       "        if (event.deltaY < 0) {\n",
       "            event.step = 1;\n",
       "        } else {\n",
       "            event.step = -1;\n",
       "        }\n",
       "        mouse_event_fn(event);\n",
       "    });\n",
       "\n",
       "    canvas_div.append(canvas);\n",
       "    canvas_div.append(rubberband);\n",
       "\n",
       "    this.rubberband = rubberband;\n",
       "    this.rubberband_canvas = rubberband[0];\n",
       "    this.rubberband_context = rubberband[0].getContext(\"2d\");\n",
       "    this.rubberband_context.strokeStyle = \"#000000\";\n",
       "\n",
       "    this._resize_canvas = function(width, height) {\n",
       "        // Keep the size of the canvas, canvas container, and rubber band\n",
       "        // canvas in synch.\n",
       "        canvas_div.css('width', width)\n",
       "        canvas_div.css('height', height)\n",
       "\n",
       "        canvas.attr('width', width * mpl.ratio);\n",
       "        canvas.attr('height', height * mpl.ratio);\n",
       "        canvas.attr('style', 'width: ' + width + 'px; height: ' + height + 'px;');\n",
       "\n",
       "        rubberband.attr('width', width);\n",
       "        rubberband.attr('height', height);\n",
       "    }\n",
       "\n",
       "    // Set the figure to an initial 600x600px, this will subsequently be updated\n",
       "    // upon first draw.\n",
       "    this._resize_canvas(600, 600);\n",
       "\n",
       "    // Disable right mouse context menu.\n",
       "    $(this.rubberband_canvas).bind(\"contextmenu\",function(e){\n",
       "        return false;\n",
       "    });\n",
       "\n",
       "    function set_focus () {\n",
       "        canvas.focus();\n",
       "        canvas_div.focus();\n",
       "    }\n",
       "\n",
       "    window.setTimeout(set_focus, 100);\n",
       "}\n",
       "\n",
       "mpl.figure.prototype._init_toolbar = function() {\n",
       "    var fig = this;\n",
       "\n",
       "    var nav_element = $('<div/>')\n",
       "    nav_element.attr('style', 'width: 100%');\n",
       "    this.root.append(nav_element);\n",
       "\n",
       "    // Define a callback function for later on.\n",
       "    function toolbar_event(event) {\n",
       "        return fig.toolbar_button_onclick(event['data']);\n",
       "    }\n",
       "    function toolbar_mouse_event(event) {\n",
       "        return fig.toolbar_button_onmouseover(event['data']);\n",
       "    }\n",
       "\n",
       "    for(var toolbar_ind in mpl.toolbar_items) {\n",
       "        var name = mpl.toolbar_items[toolbar_ind][0];\n",
       "        var tooltip = mpl.toolbar_items[toolbar_ind][1];\n",
       "        var image = mpl.toolbar_items[toolbar_ind][2];\n",
       "        var method_name = mpl.toolbar_items[toolbar_ind][3];\n",
       "\n",
       "        if (!name) {\n",
       "            // put a spacer in here.\n",
       "            continue;\n",
       "        }\n",
       "        var button = $('<button/>');\n",
       "        button.addClass('ui-button ui-widget ui-state-default ui-corner-all ' +\n",
       "                        'ui-button-icon-only');\n",
       "        button.attr('role', 'button');\n",
       "        button.attr('aria-disabled', 'false');\n",
       "        button.click(method_name, toolbar_event);\n",
       "        button.mouseover(tooltip, toolbar_mouse_event);\n",
       "\n",
       "        var icon_img = $('<span/>');\n",
       "        icon_img.addClass('ui-button-icon-primary ui-icon');\n",
       "        icon_img.addClass(image);\n",
       "        icon_img.addClass('ui-corner-all');\n",
       "\n",
       "        var tooltip_span = $('<span/>');\n",
       "        tooltip_span.addClass('ui-button-text');\n",
       "        tooltip_span.html(tooltip);\n",
       "\n",
       "        button.append(icon_img);\n",
       "        button.append(tooltip_span);\n",
       "\n",
       "        nav_element.append(button);\n",
       "    }\n",
       "\n",
       "    var fmt_picker_span = $('<span/>');\n",
       "\n",
       "    var fmt_picker = $('<select/>');\n",
       "    fmt_picker.addClass('mpl-toolbar-option ui-widget ui-widget-content');\n",
       "    fmt_picker_span.append(fmt_picker);\n",
       "    nav_element.append(fmt_picker_span);\n",
       "    this.format_dropdown = fmt_picker[0];\n",
       "\n",
       "    for (var ind in mpl.extensions) {\n",
       "        var fmt = mpl.extensions[ind];\n",
       "        var option = $(\n",
       "            '<option/>', {selected: fmt === mpl.default_extension}).html(fmt);\n",
       "        fmt_picker.append(option)\n",
       "    }\n",
       "\n",
       "    // Add hover states to the ui-buttons\n",
       "    $( \".ui-button\" ).hover(\n",
       "        function() { $(this).addClass(\"ui-state-hover\");},\n",
       "        function() { $(this).removeClass(\"ui-state-hover\");}\n",
       "    );\n",
       "\n",
       "    var status_bar = $('<span class=\"mpl-message\"/>');\n",
       "    nav_element.append(status_bar);\n",
       "    this.message = status_bar[0];\n",
       "}\n",
       "\n",
       "mpl.figure.prototype.request_resize = function(x_pixels, y_pixels) {\n",
       "    // Request matplotlib to resize the figure. Matplotlib will then trigger a resize in the client,\n",
       "    // which will in turn request a refresh of the image.\n",
       "    this.send_message('resize', {'width': x_pixels, 'height': y_pixels});\n",
       "}\n",
       "\n",
       "mpl.figure.prototype.send_message = function(type, properties) {\n",
       "    properties['type'] = type;\n",
       "    properties['figure_id'] = this.id;\n",
       "    this.ws.send(JSON.stringify(properties));\n",
       "}\n",
       "\n",
       "mpl.figure.prototype.send_draw_message = function() {\n",
       "    if (!this.waiting) {\n",
       "        this.waiting = true;\n",
       "        this.ws.send(JSON.stringify({type: \"draw\", figure_id: this.id}));\n",
       "    }\n",
       "}\n",
       "\n",
       "\n",
       "mpl.figure.prototype.handle_save = function(fig, msg) {\n",
       "    var format_dropdown = fig.format_dropdown;\n",
       "    var format = format_dropdown.options[format_dropdown.selectedIndex].value;\n",
       "    fig.ondownload(fig, format);\n",
       "}\n",
       "\n",
       "\n",
       "mpl.figure.prototype.handle_resize = function(fig, msg) {\n",
       "    var size = msg['size'];\n",
       "    if (size[0] != fig.canvas.width || size[1] != fig.canvas.height) {\n",
       "        fig._resize_canvas(size[0], size[1]);\n",
       "        fig.send_message(\"refresh\", {});\n",
       "    };\n",
       "}\n",
       "\n",
       "mpl.figure.prototype.handle_rubberband = function(fig, msg) {\n",
       "    var x0 = msg['x0'] / mpl.ratio;\n",
       "    var y0 = (fig.canvas.height - msg['y0']) / mpl.ratio;\n",
       "    var x1 = msg['x1'] / mpl.ratio;\n",
       "    var y1 = (fig.canvas.height - msg['y1']) / mpl.ratio;\n",
       "    x0 = Math.floor(x0) + 0.5;\n",
       "    y0 = Math.floor(y0) + 0.5;\n",
       "    x1 = Math.floor(x1) + 0.5;\n",
       "    y1 = Math.floor(y1) + 0.5;\n",
       "    var min_x = Math.min(x0, x1);\n",
       "    var min_y = Math.min(y0, y1);\n",
       "    var width = Math.abs(x1 - x0);\n",
       "    var height = Math.abs(y1 - y0);\n",
       "\n",
       "    fig.rubberband_context.clearRect(\n",
       "        0, 0, fig.canvas.width, fig.canvas.height);\n",
       "\n",
       "    fig.rubberband_context.strokeRect(min_x, min_y, width, height);\n",
       "}\n",
       "\n",
       "mpl.figure.prototype.handle_figure_label = function(fig, msg) {\n",
       "    // Updates the figure title.\n",
       "    fig.header.textContent = msg['label'];\n",
       "}\n",
       "\n",
       "mpl.figure.prototype.handle_cursor = function(fig, msg) {\n",
       "    var cursor = msg['cursor'];\n",
       "    switch(cursor)\n",
       "    {\n",
       "    case 0:\n",
       "        cursor = 'pointer';\n",
       "        break;\n",
       "    case 1:\n",
       "        cursor = 'default';\n",
       "        break;\n",
       "    case 2:\n",
       "        cursor = 'crosshair';\n",
       "        break;\n",
       "    case 3:\n",
       "        cursor = 'move';\n",
       "        break;\n",
       "    }\n",
       "    fig.rubberband_canvas.style.cursor = cursor;\n",
       "}\n",
       "\n",
       "mpl.figure.prototype.handle_message = function(fig, msg) {\n",
       "    fig.message.textContent = msg['message'];\n",
       "}\n",
       "\n",
       "mpl.figure.prototype.handle_draw = function(fig, msg) {\n",
       "    // Request the server to send over a new figure.\n",
       "    fig.send_draw_message();\n",
       "}\n",
       "\n",
       "mpl.figure.prototype.handle_image_mode = function(fig, msg) {\n",
       "    fig.image_mode = msg['mode'];\n",
       "}\n",
       "\n",
       "mpl.figure.prototype.updated_canvas_event = function() {\n",
       "    // Called whenever the canvas gets updated.\n",
       "    this.send_message(\"ack\", {});\n",
       "}\n",
       "\n",
       "// A function to construct a web socket function for onmessage handling.\n",
       "// Called in the figure constructor.\n",
       "mpl.figure.prototype._make_on_message_function = function(fig) {\n",
       "    return function socket_on_message(evt) {\n",
       "        if (evt.data instanceof Blob) {\n",
       "            /* FIXME: We get \"Resource interpreted as Image but\n",
       "             * transferred with MIME type text/plain:\" errors on\n",
       "             * Chrome.  But how to set the MIME type?  It doesn't seem\n",
       "             * to be part of the websocket stream */\n",
       "            evt.data.type = \"image/png\";\n",
       "\n",
       "            /* Free the memory for the previous frames */\n",
       "            if (fig.imageObj.src) {\n",
       "                (window.URL || window.webkitURL).revokeObjectURL(\n",
       "                    fig.imageObj.src);\n",
       "            }\n",
       "\n",
       "            fig.imageObj.src = (window.URL || window.webkitURL).createObjectURL(\n",
       "                evt.data);\n",
       "            fig.updated_canvas_event();\n",
       "            fig.waiting = false;\n",
       "            return;\n",
       "        }\n",
       "        else if (typeof evt.data === 'string' && evt.data.slice(0, 21) == \"data:image/png;base64\") {\n",
       "            fig.imageObj.src = evt.data;\n",
       "            fig.updated_canvas_event();\n",
       "            fig.waiting = false;\n",
       "            return;\n",
       "        }\n",
       "\n",
       "        var msg = JSON.parse(evt.data);\n",
       "        var msg_type = msg['type'];\n",
       "\n",
       "        // Call the  \"handle_{type}\" callback, which takes\n",
       "        // the figure and JSON message as its only arguments.\n",
       "        try {\n",
       "            var callback = fig[\"handle_\" + msg_type];\n",
       "        } catch (e) {\n",
       "            console.log(\"No handler for the '\" + msg_type + \"' message type: \", msg);\n",
       "            return;\n",
       "        }\n",
       "\n",
       "        if (callback) {\n",
       "            try {\n",
       "                // console.log(\"Handling '\" + msg_type + \"' message: \", msg);\n",
       "                callback(fig, msg);\n",
       "            } catch (e) {\n",
       "                console.log(\"Exception inside the 'handler_\" + msg_type + \"' callback:\", e, e.stack, msg);\n",
       "            }\n",
       "        }\n",
       "    };\n",
       "}\n",
       "\n",
       "// from http://stackoverflow.com/questions/1114465/getting-mouse-location-in-canvas\n",
       "mpl.findpos = function(e) {\n",
       "    //this section is from http://www.quirksmode.org/js/events_properties.html\n",
       "    var targ;\n",
       "    if (!e)\n",
       "        e = window.event;\n",
       "    if (e.target)\n",
       "        targ = e.target;\n",
       "    else if (e.srcElement)\n",
       "        targ = e.srcElement;\n",
       "    if (targ.nodeType == 3) // defeat Safari bug\n",
       "        targ = targ.parentNode;\n",
       "\n",
       "    // jQuery normalizes the pageX and pageY\n",
       "    // pageX,Y are the mouse positions relative to the document\n",
       "    // offset() returns the position of the element relative to the document\n",
       "    var x = e.pageX - $(targ).offset().left;\n",
       "    var y = e.pageY - $(targ).offset().top;\n",
       "\n",
       "    return {\"x\": x, \"y\": y};\n",
       "};\n",
       "\n",
       "/*\n",
       " * return a copy of an object with only non-object keys\n",
       " * we need this to avoid circular references\n",
       " * http://stackoverflow.com/a/24161582/3208463\n",
       " */\n",
       "function simpleKeys (original) {\n",
       "  return Object.keys(original).reduce(function (obj, key) {\n",
       "    if (typeof original[key] !== 'object')\n",
       "        obj[key] = original[key]\n",
       "    return obj;\n",
       "  }, {});\n",
       "}\n",
       "\n",
       "mpl.figure.prototype.mouse_event = function(event, name) {\n",
       "    var canvas_pos = mpl.findpos(event)\n",
       "\n",
       "    if (name === 'button_press')\n",
       "    {\n",
       "        this.canvas.focus();\n",
       "        this.canvas_div.focus();\n",
       "    }\n",
       "\n",
       "    var x = canvas_pos.x * mpl.ratio;\n",
       "    var y = canvas_pos.y * mpl.ratio;\n",
       "\n",
       "    this.send_message(name, {x: x, y: y, button: event.button,\n",
       "                             step: event.step,\n",
       "                             guiEvent: simpleKeys(event)});\n",
       "\n",
       "    /* This prevents the web browser from automatically changing to\n",
       "     * the text insertion cursor when the button is pressed.  We want\n",
       "     * to control all of the cursor setting manually through the\n",
       "     * 'cursor' event from matplotlib */\n",
       "    event.preventDefault();\n",
       "    return false;\n",
       "}\n",
       "\n",
       "mpl.figure.prototype._key_event_extra = function(event, name) {\n",
       "    // Handle any extra behaviour associated with a key event\n",
       "}\n",
       "\n",
       "mpl.figure.prototype.key_event = function(event, name) {\n",
       "\n",
       "    // Prevent repeat events\n",
       "    if (name == 'key_press')\n",
       "    {\n",
       "        if (event.which === this._key)\n",
       "            return;\n",
       "        else\n",
       "            this._key = event.which;\n",
       "    }\n",
       "    if (name == 'key_release')\n",
       "        this._key = null;\n",
       "\n",
       "    var value = '';\n",
       "    if (event.ctrlKey && event.which != 17)\n",
       "        value += \"ctrl+\";\n",
       "    if (event.altKey && event.which != 18)\n",
       "        value += \"alt+\";\n",
       "    if (event.shiftKey && event.which != 16)\n",
       "        value += \"shift+\";\n",
       "\n",
       "    value += 'k';\n",
       "    value += event.which.toString();\n",
       "\n",
       "    this._key_event_extra(event, name);\n",
       "\n",
       "    this.send_message(name, {key: value,\n",
       "                             guiEvent: simpleKeys(event)});\n",
       "    return false;\n",
       "}\n",
       "\n",
       "mpl.figure.prototype.toolbar_button_onclick = function(name) {\n",
       "    if (name == 'download') {\n",
       "        this.handle_save(this, null);\n",
       "    } else {\n",
       "        this.send_message(\"toolbar_button\", {name: name});\n",
       "    }\n",
       "};\n",
       "\n",
       "mpl.figure.prototype.toolbar_button_onmouseover = function(tooltip) {\n",
       "    this.message.textContent = tooltip;\n",
       "};\n",
       "mpl.toolbar_items = [[\"Home\", \"Reset original view\", \"fa fa-home icon-home\", \"home\"], [\"Back\", \"Back to previous view\", \"fa fa-arrow-left icon-arrow-left\", \"back\"], [\"Forward\", \"Forward to next view\", \"fa fa-arrow-right icon-arrow-right\", \"forward\"], [\"\", \"\", \"\", \"\"], [\"Pan\", \"Pan axes with left mouse, zoom with right\", \"fa fa-arrows icon-move\", \"pan\"], [\"Zoom\", \"Zoom to rectangle\", \"fa fa-square-o icon-check-empty\", \"zoom\"], [\"\", \"\", \"\", \"\"], [\"Download\", \"Download plot\", \"fa fa-floppy-o icon-save\", \"download\"]];\n",
       "\n",
       "mpl.extensions = [\"eps\", \"jpeg\", \"pdf\", \"png\", \"ps\", \"raw\", \"svg\", \"tif\"];\n",
       "\n",
       "mpl.default_extension = \"png\";var comm_websocket_adapter = function(comm) {\n",
       "    // Create a \"websocket\"-like object which calls the given IPython comm\n",
       "    // object with the appropriate methods. Currently this is a non binary\n",
       "    // socket, so there is still some room for performance tuning.\n",
       "    var ws = {};\n",
       "\n",
       "    ws.close = function() {\n",
       "        comm.close()\n",
       "    };\n",
       "    ws.send = function(m) {\n",
       "        //console.log('sending', m);\n",
       "        comm.send(m);\n",
       "    };\n",
       "    // Register the callback with on_msg.\n",
       "    comm.on_msg(function(msg) {\n",
       "        //console.log('receiving', msg['content']['data'], msg);\n",
       "        // Pass the mpl event to the overridden (by mpl) onmessage function.\n",
       "        ws.onmessage(msg['content']['data'])\n",
       "    });\n",
       "    return ws;\n",
       "}\n",
       "\n",
       "mpl.mpl_figure_comm = function(comm, msg) {\n",
       "    // This is the function which gets called when the mpl process\n",
       "    // starts-up an IPython Comm through the \"matplotlib\" channel.\n",
       "\n",
       "    var id = msg.content.data.id;\n",
       "    // Get hold of the div created by the display call when the Comm\n",
       "    // socket was opened in Python.\n",
       "    var element = $(\"#\" + id);\n",
       "    var ws_proxy = comm_websocket_adapter(comm)\n",
       "\n",
       "    function ondownload(figure, format) {\n",
       "        window.open(figure.imageObj.src);\n",
       "    }\n",
       "\n",
       "    var fig = new mpl.figure(id, ws_proxy,\n",
       "                           ondownload,\n",
       "                           element.get(0));\n",
       "\n",
       "    // Call onopen now - mpl needs it, as it is assuming we've passed it a real\n",
       "    // web socket which is closed, not our websocket->open comm proxy.\n",
       "    ws_proxy.onopen();\n",
       "\n",
       "    fig.parent_element = element.get(0);\n",
       "    fig.cell_info = mpl.find_output_cell(\"<div id='\" + id + \"'></div>\");\n",
       "    if (!fig.cell_info) {\n",
       "        console.error(\"Failed to find cell for figure\", id, fig);\n",
       "        return;\n",
       "    }\n",
       "\n",
       "    var output_index = fig.cell_info[2]\n",
       "    var cell = fig.cell_info[0];\n",
       "\n",
       "};\n",
       "\n",
       "mpl.figure.prototype.handle_close = function(fig, msg) {\n",
       "    var width = fig.canvas.width/mpl.ratio\n",
       "    fig.root.unbind('remove')\n",
       "\n",
       "    // Update the output cell to use the data from the current canvas.\n",
       "    fig.push_to_output();\n",
       "    var dataURL = fig.canvas.toDataURL();\n",
       "    // Re-enable the keyboard manager in IPython - without this line, in FF,\n",
       "    // the notebook keyboard shortcuts fail.\n",
       "    IPython.keyboard_manager.enable()\n",
       "    $(fig.parent_element).html('<img src=\"' + dataURL + '\" width=\"' + width + '\">');\n",
       "    fig.close_ws(fig, msg);\n",
       "}\n",
       "\n",
       "mpl.figure.prototype.close_ws = function(fig, msg){\n",
       "    fig.send_message('closing', msg);\n",
       "    // fig.ws.close()\n",
       "}\n",
       "\n",
       "mpl.figure.prototype.push_to_output = function(remove_interactive) {\n",
       "    // Turn the data on the canvas into data in the output cell.\n",
       "    var width = this.canvas.width/mpl.ratio\n",
       "    var dataURL = this.canvas.toDataURL();\n",
       "    this.cell_info[1]['text/html'] = '<img src=\"' + dataURL + '\" width=\"' + width + '\">';\n",
       "}\n",
       "\n",
       "mpl.figure.prototype.updated_canvas_event = function() {\n",
       "    // Tell IPython that the notebook contents must change.\n",
       "    IPython.notebook.set_dirty(true);\n",
       "    this.send_message(\"ack\", {});\n",
       "    var fig = this;\n",
       "    // Wait a second, then push the new image to the DOM so\n",
       "    // that it is saved nicely (might be nice to debounce this).\n",
       "    setTimeout(function () { fig.push_to_output() }, 1000);\n",
       "}\n",
       "\n",
       "mpl.figure.prototype._init_toolbar = function() {\n",
       "    var fig = this;\n",
       "\n",
       "    var nav_element = $('<div/>')\n",
       "    nav_element.attr('style', 'width: 100%');\n",
       "    this.root.append(nav_element);\n",
       "\n",
       "    // Define a callback function for later on.\n",
       "    function toolbar_event(event) {\n",
       "        return fig.toolbar_button_onclick(event['data']);\n",
       "    }\n",
       "    function toolbar_mouse_event(event) {\n",
       "        return fig.toolbar_button_onmouseover(event['data']);\n",
       "    }\n",
       "\n",
       "    for(var toolbar_ind in mpl.toolbar_items){\n",
       "        var name = mpl.toolbar_items[toolbar_ind][0];\n",
       "        var tooltip = mpl.toolbar_items[toolbar_ind][1];\n",
       "        var image = mpl.toolbar_items[toolbar_ind][2];\n",
       "        var method_name = mpl.toolbar_items[toolbar_ind][3];\n",
       "\n",
       "        if (!name) { continue; };\n",
       "\n",
       "        var button = $('<button class=\"btn btn-default\" href=\"#\" title=\"' + name + '\"><i class=\"fa ' + image + ' fa-lg\"></i></button>');\n",
       "        button.click(method_name, toolbar_event);\n",
       "        button.mouseover(tooltip, toolbar_mouse_event);\n",
       "        nav_element.append(button);\n",
       "    }\n",
       "\n",
       "    // Add the status bar.\n",
       "    var status_bar = $('<span class=\"mpl-message\" style=\"text-align:right; float: right;\"/>');\n",
       "    nav_element.append(status_bar);\n",
       "    this.message = status_bar[0];\n",
       "\n",
       "    // Add the close button to the window.\n",
       "    var buttongrp = $('<div class=\"btn-group inline pull-right\"></div>');\n",
       "    var button = $('<button class=\"btn btn-mini btn-primary\" href=\"#\" title=\"Stop Interaction\"><i class=\"fa fa-power-off icon-remove icon-large\"></i></button>');\n",
       "    button.click(function (evt) { fig.handle_close(fig, {}); } );\n",
       "    button.mouseover('Stop Interaction', toolbar_mouse_event);\n",
       "    buttongrp.append(button);\n",
       "    var titlebar = this.root.find($('.ui-dialog-titlebar'));\n",
       "    titlebar.prepend(buttongrp);\n",
       "}\n",
       "\n",
       "mpl.figure.prototype._root_extra_style = function(el){\n",
       "    var fig = this\n",
       "    el.on(\"remove\", function(){\n",
       "\tfig.close_ws(fig, {});\n",
       "    });\n",
       "}\n",
       "\n",
       "mpl.figure.prototype._canvas_extra_style = function(el){\n",
       "    // this is important to make the div 'focusable\n",
       "    el.attr('tabindex', 0)\n",
       "    // reach out to IPython and tell the keyboard manager to turn it's self\n",
       "    // off when our div gets focus\n",
       "\n",
       "    // location in version 3\n",
       "    if (IPython.notebook.keyboard_manager) {\n",
       "        IPython.notebook.keyboard_manager.register_events(el);\n",
       "    }\n",
       "    else {\n",
       "        // location in version 2\n",
       "        IPython.keyboard_manager.register_events(el);\n",
       "    }\n",
       "\n",
       "}\n",
       "\n",
       "mpl.figure.prototype._key_event_extra = function(event, name) {\n",
       "    var manager = IPython.notebook.keyboard_manager;\n",
       "    if (!manager)\n",
       "        manager = IPython.keyboard_manager;\n",
       "\n",
       "    // Check for shift+enter\n",
       "    if (event.shiftKey && event.which == 13) {\n",
       "        this.canvas_div.blur();\n",
       "        event.shiftKey = false;\n",
       "        // Send a \"J\" for go to next cell\n",
       "        event.which = 74;\n",
       "        event.keyCode = 74;\n",
       "        manager.command_mode();\n",
       "        manager.handle_keydown(event);\n",
       "    }\n",
       "}\n",
       "\n",
       "mpl.figure.prototype.handle_save = function(fig, msg) {\n",
       "    fig.ondownload(fig, null);\n",
       "}\n",
       "\n",
       "\n",
       "mpl.find_output_cell = function(html_output) {\n",
       "    // Return the cell and output element which can be found *uniquely* in the notebook.\n",
       "    // Note - this is a bit hacky, but it is done because the \"notebook_saving.Notebook\"\n",
       "    // IPython event is triggered only after the cells have been serialised, which for\n",
       "    // our purposes (turning an active figure into a static one), is too late.\n",
       "    var cells = IPython.notebook.get_cells();\n",
       "    var ncells = cells.length;\n",
       "    for (var i=0; i<ncells; i++) {\n",
       "        var cell = cells[i];\n",
       "        if (cell.cell_type === 'code'){\n",
       "            for (var j=0; j<cell.output_area.outputs.length; j++) {\n",
       "                var data = cell.output_area.outputs[j];\n",
       "                if (data.data) {\n",
       "                    // IPython >= 3 moved mimebundle to data attribute of output\n",
       "                    data = data.data;\n",
       "                }\n",
       "                if (data['text/html'] == html_output) {\n",
       "                    return [cell, data, j];\n",
       "                }\n",
       "            }\n",
       "        }\n",
       "    }\n",
       "}\n",
       "\n",
       "// Register the function which deals with the matplotlib target/channel.\n",
       "// The kernel may be null if the page has been refreshed.\n",
       "if (IPython.notebook.kernel != null) {\n",
       "    IPython.notebook.kernel.comm_manager.register_target('matplotlib', mpl.mpl_figure_comm);\n",
       "}\n"
      ],
      "text/plain": [
       "<IPython.core.display.Javascript object>"
      ]
     },
     "metadata": {},
     "output_type": "display_data"
    },
    {
     "data": {
      "text/html": [
       "<img src=\"data:image/png;base64,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\" width=\"432\">"
      ],
      "text/plain": [
       "<IPython.core.display.HTML object>"
      ]
     },
     "metadata": {},
     "output_type": "display_data"
    }
   ],
   "source": [
    "%matplotlib notebook\n",
    "from matplotlib import cm\n",
    "\n",
    "EPOCHS = 200000\n",
    "\n",
    "max_accuracy = 0\n",
    "\n",
    "fig, ax = plt.subplots(num='Training')\n",
    "scatter = ax.scatter(*inputs.T, 2)\n",
    "plt.show()\n",
    "\n",
    "for epoch in range(1, EPOCHS + 1):\n",
    "    sample_index = np.random.randint(0, len(targets))\n",
    "    MLP.adapt(inputs[sample_index], targets[sample_index])\n",
    "\n",
    "    if (epoch % 2500) == 0:\n",
    "        outputs = np.squeeze([MLP.activate(x) for x in inputs])\n",
    "        predictions = np.round(outputs)\n",
    "        accuracy = np.sum(predictions == targets) / len(targets) * 100\n",
    "        if accuracy > max_accuracy:\n",
    "            max_accuracy = accuracy\n",
    "        scatter.set_color(cm.RdYlBu(outputs))\n",
    "        ax.set(title=f'Training {epoch / EPOCHS * 100:.0f}%: {accuracy:.2f}%. Best accuracy: {max_accuracy:.2f}%')\n",
    "        fig.canvas.draw()"
   ]
  },
  {
   "cell_type": "code",
   "execution_count": null,
   "metadata": {
    "deletable": false,
    "editable": false,
    "nbgrader": {
     "checksum": "60a6ae24299c03042b919b6d86032cf7",
     "grade": false,
     "grade_id": "ex1d_demo2",
     "locked": true,
     "schema_version": 1,
     "solution": false
    }
   },
   "outputs": [],
   "source": [
    "%matplotlib notebook\n",
    "from matplotlib import cm\n",
    "\n",
    "EPOCHS = 200000\n",
    "\n",
    "max_accuracy = 0\n",
    "\n",
    "fig, ax = plt.subplots(num='Training')\n",
    "scatter = ax.scatter(*inputs.T, 2)\n",
    "plt.show()\n",
    "\n",
    "for epoch in range(1, EPOCHS + 1):\n",
    "    sample_index = np.random.randint(0, len(targets))\n",
    "    MLP.adapt(inputs[sample_index], targets[sample_index])\n",
    "\n",
    "    if (epoch % 2500) == 0:\n",
    "        outputs = np.squeeze([MLP.activate(x) for x in inputs])\n",
    "        predictions = np.round(outputs)\n",
    "        accuracy = np.sum(predictions == targets) / len(targets) * 100\n",
    "        if accuracy > max_accuracy:\n",
    "            max_accuracy = accuracy\n",
    "        scatter.set_color(cm.RdYlBu(outputs))\n",
    "        ax.set(title=f'Training {epoch / EPOCHS * 100:.0f}%: {accuracy:.2f}%. Best accuracy: {max_accuracy:.2f}%')\n",
    "        fig.canvas.draw()"
   ]
  },
  {
   "cell_type": "markdown",
   "metadata": {
    "deletable": false,
    "editable": false,
    "nbgrader": {
     "checksum": "294283d3bfe026b36a873684a5a202ee",
     "grade": false,
     "grade_id": "ex1d_intro4",
     "locked": true,
     "schema_version": 1,
     "solution": false
    }
   },
   "source": [
    "### Evaluation"
   ]
  },
  {
   "cell_type": "code",
   "execution_count": 24,
   "metadata": {
    "deletable": false,
    "editable": false,
    "nbgrader": {
     "checksum": "56fc64068fba9cc7db78ac27c8df3e25",
     "grade": false,
     "grade_id": "ex1d_demo3",
     "locked": true,
     "schema_version": 1,
     "solution": false
    }
   },
   "outputs": [
    {
     "data": {
      "image/png": "[encoded data removed]",
      "text/plain": [
       "<Figure size 432x288 with 4 Axes>"
      ]
     },
     "metadata": {
      "needs_background": "light"
     },
     "output_type": "display_data"
    }
   ],
   "source": [
    "%matplotlib inline\n",
    "fig, ax = plt.subplots(nrows=2, ncols=2)\n",
    "ax[0, 0].scatter(*inputs.T, 2, c=outputs, cmap='RdYlBu')\n",
    "ax[0, 0].set_title('Continuous Classification')\n",
    "ax[0, 1].set_title('Discretized Classification')\n",
    "ax[0, 1].scatter(*inputs.T, 2, c=np.round(outputs), cmap='RdYlBu')\n",
    "ax[1, 0].set_title('Original Labels')\n",
    "ax[1, 0].scatter(*inputs.T, 2, c=targets, cmap='RdYlBu')\n",
    "ax[1, 1].set_title('Wrong Classifications')\n",
    "ax[1, 1].scatter(*inputs.T, 2, c=(targets != np.round(outputs)), cmap='OrRd')\n",
    "plt.show()"
   ]
  },
  {
   "cell_type": "markdown",
   "metadata": {
    "deletable": false,
    "editable": false,
    "nbgrader": {
     "checksum": "d9177bc80f95eab96110cf43135ac143",
     "grade": false,
     "grade_id": "ex1d_intro5",
     "locked": true,
     "schema_version": 1,
     "solution": false
    }
   },
   "source": [
    "## Results\n",
    "Document your results in the following cell. We are interested in which network configurations you tried and what accuracies they resulted in. Did you run into problems during training? Was it steady or did it get stuck? Did you recognize anything about the training process? How could we get better results? Tell us!"
   ]
  },
  {
   "cell_type": "markdown",
   "metadata": {
    "deletable": false,
    "nbgrader": {
     "checksum": "9c0b30174d983f56bb737c2d54e2bfa0",
     "grade": true,
     "grade_id": "ex1d_solution",
     "locked": false,
     "points": 4,
     "schema_version": 1,
     "solution": true
    }
   },
   "source": [
    "YOUR ANSWER HERE"
   ]
  },
  {
   "cell_type": "markdown",
   "metadata": {
    "deletable": false,
    "editable": false,
    "nbgrader": {
     "checksum": "52dd1acb7e295a080086dbf1522163ab",
     "grade": false,
     "grade_id": "ex2",
     "locked": true,
     "schema_version": 1,
     "solution": false
    }
   },
   "source": [
    "## Assignment 2: MLP and RBFN [10 Points]"
   ]
  },
  {
   "cell_type": "markdown",
   "metadata": {
    "collapsed": true,
    "deletable": false,
    "editable": false,
    "nbgrader": {
     "checksum": "89c37df6a4896a21d1977f79290e3d91",
     "grade": false,
     "grade_id": "ex2_intro",
     "locked": true,
     "schema_version": 1,
     "solution": false
    }
   },
   "source": [
    "This exercise is aimed at deepening the understanding of Radial Basis Function Networks and how they relate to Multilayer Perceptrons. Not all of the answers can be found directly in the slides - so when answering the (more algorithmic) questions, first take a minute and think about how you would go about solving them and if nothing comes to mind search the internet for a little bit. If you are interested in a real life application of both algorithms and how they compare take a look at this paper: [Comparison between Multi-Layer Perceptron and Radial Basis Function Networks for Sediment Load Estimation in a Tropical Watershed](http://file.scirp.org/pdf/JWARP20121000014_80441700.pdf)\n",
    "\n",
    "![Schematic of a RBFN](RBFN.png)\n",
    "\n",
    "We have prepared a little example that shows how radial basis function approximation works in Python. This is not an example implementation of a RBFN but illustrates the work of the hidden neurons."
   ]
  },
  {
   "cell_type": "code",
   "execution_count": null,
   "metadata": {},
   "outputs": [],
   "source": [
    "%matplotlib inline\n",
    "import numpy as np\n",
    "from numpy.random import uniform\n",
    "\n",
    "from scipy.interpolate import Rbf\n",
    "\n",
    "import matplotlib\n",
    "import matplotlib.pyplot as plt\n",
    "from matplotlib import cm\n",
    "\n",
    "\n",
    "def func(x, y):\n",
    "    \"\"\"\n",
    "    This is the example function that should be fitted.\n",
    "    Its shape could be described as two peaks close to\n",
    "    each other - one going up, the other going down\n",
    "    \"\"\"\n",
    "    return (x + y) * np.exp(-4.0 * (x**2 + y**2))\n",
    "\n",
    "\n",
    "# number of training points (you may try different values here)\n",
    "training_size = 50\n",
    "\n",
    "# sample 'training_size' data points from the input space [-1,1]x[-1,1] ...\n",
    "x = uniform(-1.0, 1.0, size=training_size)\n",
    "y = uniform(-1.0, 1.0, size=training_size)\n",
    "\n",
    "# ... and compute function values for them.\n",
    "fvals = func(x, y)\n",
    "\n",
    "# get the aprroximation via RBF\n",
    "new_func = Rbf(x, y, fvals)\n",
    "\n",
    "\n",
    "# Plot both functions:\n",
    "# create a 100x100 grid of input values\n",
    "x_grid, y_grid = np.mgrid[-1:1:100j, -1:1:100j]\n",
    "\n",
    "fig, ax = plt.subplots(ncols=2, sharey=True, figsize=(10, 6))\n",
    "# This plot represents the original function\n",
    "f_orig = func(x_grid, y_grid)\n",
    "img = ax[0].imshow(f_orig, extent=[-1, 1, -1, 1], cmap='RdBu')\n",
    "ax[0].set(title='Original Function')\n",
    "# This plots the approximation of the original function by the RBF\n",
    "# if the plot looks strange try to run it again, the sampling\n",
    "# in the beginning is random\n",
    "f_new = new_func(x_grid, y_grid)\n",
    "plt.imshow(f_new, extent=[-1, 1, -1, 1], cmap='RdBu')\n",
    "ax[1].set(title='RBF Result', xlim=[-1, 1], ylim=[-1, 1])\n",
    "# scatter the datapoints that have been used by the RBF\n",
    "plt.scatter(x, y, color='black')\n",
    "fig.colorbar(img, ax=ax)\n",
    "plt.show()"
   ]
  },
  {
   "cell_type": "markdown",
   "metadata": {
    "deletable": false,
    "editable": false,
    "nbgrader": {
     "checksum": "53e6c796f0502901f1f111fda4023d24",
     "grade": false,
     "grade_id": "ex2_intro2",
     "locked": true,
     "schema_version": 1,
     "solution": false
    }
   },
   "source": [
    "### Radial Basis Function Networks"
   ]
  },
  {
   "cell_type": "markdown",
   "metadata": {
    "deletable": false,
    "editable": false,
    "nbgrader": {
     "checksum": "843eb7ad4113f75a0c6f0dbc965e11ec",
     "grade": false,
     "grade_id": "ex2a",
     "locked": true,
     "schema_version": 1,
     "solution": false
    }
   },
   "source": [
    "#### What are radial basis functions?"
   ]
  },
  {
   "cell_type": "markdown",
   "metadata": {
    "deletable": false,
    "nbgrader": {
     "checksum": "5689b524ee20527f70ef0afcbda498ad",
     "grade": true,
     "grade_id": "ex2a_solution",
     "locked": false,
     "points": 1.5,
     "schema_version": 1,
     "solution": true
    }
   },
   "source": [
    "YOUR ANSWER HERE"
   ]
  },
  {
   "cell_type": "markdown",
   "metadata": {
    "deletable": false,
    "editable": false,
    "nbgrader": {
     "checksum": "db3f6f0431b118780083b72bfd3f0008",
     "grade": false,
     "grade_id": "ex2b",
     "locked": true,
     "schema_version": 1,
     "solution": false
    }
   },
   "source": [
    "#### What is the structure of a RBFN? You may also use the notion from the above included picture."
   ]
  },
  {
   "cell_type": "markdown",
   "metadata": {
    "deletable": false,
    "nbgrader": {
     "checksum": "a39a5aabd1ef812d743c62f53783aaad",
     "grade": true,
     "grade_id": "ex2b_solution",
     "locked": false,
     "points": 1.5,
     "schema_version": 1,
     "solution": true
    }
   },
   "source": [
    "YOUR ANSWER HERE"
   ]
  },
  {
   "cell_type": "markdown",
   "metadata": {
    "deletable": false,
    "editable": false,
    "nbgrader": {
     "checksum": "616136fc39234c7a2471b4fca69a8983",
     "grade": false,
     "grade_id": "ex2c",
     "locked": true,
     "schema_version": 1,
     "solution": false
    }
   },
   "source": [
    "#### How is a RBFN trained?"
   ]
  },
  {
   "cell_type": "markdown",
   "metadata": {
    "deletable": false,
    "nbgrader": {
     "checksum": "b34cadc5a56e11dbe7a7b7afbd20c7b9",
     "grade": true,
     "grade_id": "ex2c_solution",
     "locked": false,
     "points": 2,
     "schema_version": 1,
     "solution": true
    }
   },
   "source": [
    "YOUR ANSWER HERE"
   ]
  },
  {
   "cell_type": "markdown",
   "metadata": {
    "deletable": false,
    "editable": false,
    "nbgrader": {
     "checksum": "48193a09eb2de5d7346e4d4c4df375b2",
     "grade": false,
     "grade_id": "ex2_intro3",
     "locked": true,
     "schema_version": 1,
     "solution": false
    }
   },
   "source": [
    "### Comparison to the Multilayer Perceptron"
   ]
  },
  {
   "cell_type": "markdown",
   "metadata": {
    "deletable": false,
    "editable": false,
    "nbgrader": {
     "checksum": "bfd0472e7a522f91f5ec6b44ab73f5de",
     "grade": false,
     "grade_id": "ex2d",
     "locked": true,
     "schema_version": 1,
     "solution": false
    }
   },
   "source": [
    "#### What do both models have in common? Where do they differ?"
   ]
  },
  {
   "cell_type": "markdown",
   "metadata": {
    "deletable": false,
    "nbgrader": {
     "checksum": "a3ebb0013c85f99414937e2faf60593f",
     "grade": true,
     "grade_id": "ex2d_solution",
     "locked": false,
     "points": 1.5,
     "schema_version": 1,
     "solution": true
    }
   },
   "source": [
    "YOUR ANSWER HERE"
   ]
  },
  {
   "cell_type": "markdown",
   "metadata": {
    "deletable": false,
    "editable": false,
    "nbgrader": {
     "checksum": "7653a1317cbde9eeb5f7c5bb69e0f916",
     "grade": false,
     "grade_id": "ex2e",
     "locked": true,
     "schema_version": 1,
     "solution": false
    }
   },
   "source": [
    "#### How can classification in both networks be visualized?"
   ]
  },
  {
   "cell_type": "markdown",
   "metadata": {
    "deletable": false,
    "nbgrader": {
     "checksum": "73186d27f52007f372b4690524d09f8c",
     "grade": true,
     "grade_id": "ex2e_solution",
     "locked": false,
     "points": 1.5,
     "schema_version": 1,
     "solution": true
    }
   },
   "source": [
    "YOUR ANSWER HERE"
   ]
  },
  {
   "cell_type": "markdown",
   "metadata": {
    "deletable": false,
    "editable": false,
    "nbgrader": {
     "checksum": "4492d9d9b4f66662527046a11aa7db60",
     "grade": false,
     "grade_id": "ex2f",
     "locked": true,
     "schema_version": 1,
     "solution": false
    }
   },
   "source": [
    "#### When would you use a RBFN instead of a Multilayer Perceptron?"
   ]
  },
  {
   "cell_type": "markdown",
   "metadata": {
    "deletable": false,
    "nbgrader": {
     "checksum": "81583cddf2a3d90cc17902ad1585d182",
     "grade": true,
     "grade_id": "ex2f_solution",
     "locked": false,
     "points": 1,
     "schema_version": 1,
     "solution": true
    }
   },
   "source": [
    "YOUR ANSWER HERE"
   ]
  }
 ],
 "metadata": {
  "kernelspec": {
   "display_name": "Python 3",
   "language": "python",
   "name": "python3"
  },
  "language_info": {
   "codemirror_mode": {
    "name": "ipython",
    "version": 3
   },
   "file_extension": ".py",
   "mimetype": "text/x-python",
   "name": "python",
   "nbconvert_exporter": "python",
   "pygments_lexer": "ipython3",
   "version": "3.7.3"
  },
  "toc": {
   "base_numbering": 1,
   "nav_menu": {},
   "number_sections": true,
   "sideBar": true,
   "skip_h1_title": false,
   "title_cell": "Table of Contents",
   "title_sidebar": "Contents",
   "toc_cell": false,
   "toc_position": {},
   "toc_section_display": true,
   "toc_window_display": false
  },
  "varInspector": {
   "cols": {
    "lenName": 16,
    "lenType": 16,
    "lenVar": 40
   },
   "kernels_config": {
    "python": {
     "delete_cmd_postfix": "",
     "delete_cmd_prefix": "del ",
     "library": "var_list.py",
     "varRefreshCmd": "print(var_dic_list())"
    },
    "r": {
     "delete_cmd_postfix": ") ",
     "delete_cmd_prefix": "rm(",
     "library": "var_list.r",
     "varRefreshCmd": "cat(var_dic_list()) "
    }
   },
   "types_to_exclude": [
    "module",
    "function",
    "builtin_function_or_method",
    "instance",
    "_Feature"
   ],
   "window_display": false
  }
 },
 "nbformat": 4,
 "nbformat_minor": 1
}
