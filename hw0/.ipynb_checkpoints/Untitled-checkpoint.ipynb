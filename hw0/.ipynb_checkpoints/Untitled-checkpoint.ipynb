{
 "cells": [
  {
   "cell_type": "code",
   "execution_count": 32,
   "metadata": {},
   "outputs": [
    {
     "name": "stdout",
     "output_type": "stream",
     "text": [
      "['39' ' State-gov' '77516' ... '40' ' United-States' ' >50K']\n",
      "[' 10th' ' 11th' ' 12th' ... '99971' '99987' '99999']\n",
      "[[17923    88 20802 ... 18122    94     7]\n",
      " [19293    84 21074 ...  2596    94     7]\n",
      " [17723    76 10468 ... 18122    94     7]\n",
      " ...\n",
      " [19887    76  4165 ... 18122    94     7]\n",
      " [10792    76  9229 ...  9074    94     7]\n",
      " [19464    83 14531 ... 18122    94     8]]\n"
     ]
    }
   ],
   "source": [
    "import csv\n",
    "import numpy as np\n",
    "import pandas as pd\n",
    "from sklearn import preprocessing\n",
    "le = preprocessing.LabelEncoder()\n",
    "encodedDATA = []\n",
    "flatlist = []\n",
    "\n",
    "df=pd.read_csv('adult.data', sep=',',header=None)\n",
    "data_array = df.values\n",
    "flat_data = data_array.flatten().astype(str)\n",
    "print(flat_data)\n",
    "\n",
    "le.fit(flat_data)\n",
    "print(le.classes_)\n",
    "flat_encod =le.transform(flat_data)\n",
    "encod_deep = flat_encod.reshape(data_array.shape)\n",
    "print(encod_deep)"
   ]
  },
  {
   "cell_type": "code",
   "execution_count": null,
   "metadata": {},
   "outputs": [],
   "source": [
    "print('bla')"
   ]
  },
  {
   "cell_type": "code",
   "execution_count": null,
   "metadata": {},
   "outputs": [],
   "source": [
    "import csv\n",
    "from sklearn import preprocessing\n",
    "le = preprocessing.LabelEncoder()\n",
    "with open('adult.data') as csvfile:\n",
    "    readCSV = csv.reader(csvfile, delimiter =  ',')\n",
    "    for row in readCSV:\n",
    "        le.fit(row)\n",
    "        \n",
    "    \n",
    "        "
   ]
  },
  {
   "cell_type": "code",
   "execution_count": null,
   "metadata": {},
   "outputs": [],
   "source": []
  }
 ],
 "metadata": {
  "kernelspec": {
   "display_name": "Python 3",
   "language": "python",
   "name": "python3"
  },
  "language_info": {
   "codemirror_mode": {
    "name": "ipython",
    "version": 3
   },
   "file_extension": ".py",
   "mimetype": "text/x-python",
   "name": "python",
   "nbconvert_exporter": "python",
   "pygments_lexer": "ipython3",
   "version": "3.6.8"
  }
 },
 "nbformat": 4,
 "nbformat_minor": 2
}
