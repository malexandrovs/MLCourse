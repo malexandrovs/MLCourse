{
 "cells": [
  {
   "cell_type": "code",
   "execution_count": 55,
   "metadata": {
    "scrolled": true
   },
   "outputs": [
    {
     "name": "stdout",
     "output_type": "stream",
     "text": [
      "[7 7 7 ... 7 7 8]\n"
     ]
    }
   ],
   "source": [
    "import csv\n",
    "import numpy as np\n",
    "import pandas as pd\n",
    "import matplotlib.pyplot as plt\n",
    "from sklearn import preprocessing, tree\n",
    "le = preprocessing.LabelEncoder()\n",
    "encodedDATA = []\n",
    "flatlist = []\n",
    "\n",
    "df=pd.read_csv('adult.data', sep=',',header=None)\n",
    "data_array = df.values\n",
    "flat_data = data_array.flatten().astype(str)\n",
    "\n",
    "le.fit(flat_data)\n",
    "flat_encod =le.transform(flat_data)\n",
    "encod_deep = flat_encod.reshape(data_array.shape)\n",
    "labels = encod_deep[:,-1]\n",
    "data = encod_deep[:,[0,2,4,10,11,12]]\n",
    "print(labels)"
   ]
  },
  {
   "cell_type": "code",
   "execution_count": 56,
   "metadata": {},
   "outputs": [],
   "source": [
    "clf = tree.DecisionTreeClassifier()\n",
    "clf = clf.fit(data[:15000], labels[:15000])"
   ]
  },
  {
   "cell_type": "code",
   "execution_count": 51,
   "metadata": {
    "scrolled": true
   },
   "outputs": [
    {
     "data": {
      "text/plain": [
       "'clf.pdf'"
      ]
     },
     "execution_count": 51,
     "metadata": {},
     "output_type": "execute_result"
    }
   ],
   "source": [
    "import graphviz as gv\n",
    "dot_data = tree.export_graphviz(clf, out_file=None) \n",
    "graph = gv.Source(dot_data) \n",
    "graph.render(\"clf\")"
   ]
  },
  {
   "cell_type": "code",
   "execution_count": 57,
   "metadata": {},
   "outputs": [
    {
     "data": {
      "text/plain": [
       "0.7652666666666667"
      ]
     },
     "execution_count": 57,
     "metadata": {},
     "output_type": "execute_result"
    }
   ],
   "source": [
    "clf.score(data[15000:30000],labels[15000:30000])\n",
    "\n",
    "\n",
    "#cross_val_score(clf, data[3000:6000], lables[3000:6000])"
   ]
  },
  {
   "cell_type": "code",
   "execution_count": null,
   "metadata": {},
   "outputs": [],
   "source": []
  }
 ],
 "metadata": {
  "kernelspec": {
   "display_name": "Python 3",
   "language": "python",
   "name": "python3"
  },
  "language_info": {
   "codemirror_mode": {
    "name": "ipython",
    "version": 3
   },
   "file_extension": ".py",
   "mimetype": "text/x-python",
   "name": "python",
   "nbconvert_exporter": "python",
   "pygments_lexer": "ipython3",
   "version": "3.6.8"
  }
 },
 "nbformat": 4,
 "nbformat_minor": 2
}
