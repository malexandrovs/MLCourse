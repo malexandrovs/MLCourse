{
 "cells": [
  {
   "cell_type": "code",
   "execution_count": 55,
   "metadata": {
    "scrolled": true
   },
   "outputs": [
    {
     "name": "stdout",
     "output_type": "stream",
     "text": [
      "[7 7 7 ... 7 7 8]\n"
     ]
    }
   ],
   "source": [
    "import csv\n",
    "import numpy as np\n",
    "import pandas as pd\n",
    "import matplotlib.pyplot as plt\n",
    "from sklearn import preprocessing, tree\n",
    "import graphviz as gv\n",
    "\n",
    "\n",
    "le = preprocessing.LabelEncoder()\n",
    "encodedDATA = []\n",
    "flatlist = []\n",
    "\n",
    "# read the data file as cvs file\n",
    "df=pd.read_csv('adult.data', sep=',',header=None)\n",
    "\n",
    "# create an array from the cvs file\n",
    "data_array = df.values\n",
    "# flatten array in order to fit the  data\n",
    "flat_data = data_array.flatten().astype(str)\n",
    "# le is the lable encoder, that takes in all possible lables abd creates numerical values\n",
    "le.fit(flat_data)\n",
    "# encode the data according to the lable encoder\n",
    "flat_encod =le.transform(flat_data)\n",
    "# bring data array back to original shape\n",
    "encod_deep = flat_encod.reshape(data_array.shape)\n",
    "# extract the lables from the last column\n",
    "labels = encod_deep[:,-1]\n",
    "# extract the continuous attributes\n",
    "data = encod_deep[:,[0,2,4,10,11,12]]\n"
   ]
  },
  {
   "cell_type": "code",
   "execution_count": 56,
   "metadata": {},
   "outputs": [],
   "source": [
    "# create decision tree classifier\n",
    "clf = tree.DecisionTreeClassifier()\n",
    "# fit the tree to the data\n",
    "clf = clf.fit(data[:15000], labels[:15000])"
   ]
  },
  {
   "cell_type": "code",
   "execution_count": 51,
   "metadata": {
    "scrolled": true
   },
   "outputs": [
    {
     "data": {
      "text/plain": [
       "'clf.pdf'"
      ]
     },
     "execution_count": 51,
     "metadata": {},
     "output_type": "execute_result"
    }
   ],
   "source": [
    "# save visualised tree as PDF\n",
    "dot_data = tree.export_graphviz(clf, out_file=None) \n",
    "graph = gv.Source(dot_data) \n",
    "graph.render(\"clf\")"
   ]
  },
  {
   "cell_type": "code",
   "execution_count": 57,
   "metadata": {},
   "outputs": [
    {
     "data": {
      "text/plain": [
       "0.7652666666666667"
      ]
     },
     "execution_count": 57,
     "metadata": {},
     "output_type": "execute_result"
    }
   ],
   "source": [
    "# test the tree with remaining test data\n",
    "clf.score(data[15000:30000],labels[15000:30000])\n",
    "\n",
    "\n",
    "#cross_val_score(clf, data[3000:6000], lables[3000:6000])"
   ]
  },
  {
   "cell_type": "code",
   "execution_count": null,
   "metadata": {},
   "outputs": [],
   "source": []
  }
 ],
 "metadata": {
  "kernelspec": {
   "display_name": "Python 3",
   "language": "python",
   "name": "python3"
  },
  "language_info": {
   "codemirror_mode": {
    "name": "ipython",
    "version": 3
   },
   "file_extension": ".py",
   "mimetype": "text/x-python",
   "name": "python",
   "nbconvert_exporter": "python",
   "pygments_lexer": "ipython3",
   "version": "3.6.8"
  }
 },
 "nbformat": 4,
 "nbformat_minor": 2
}
